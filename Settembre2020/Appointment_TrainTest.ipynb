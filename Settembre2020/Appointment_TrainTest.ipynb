{
 "cells": [
  {
   "cell_type": "markdown",
   "metadata": {},
   "source": [
    "# Appointment - Train e Test del Modello"
   ]
  },
  {
   "cell_type": "markdown",
   "metadata": {},
   "source": [
    "## Import delle librerie"
   ]
  },
  {
   "cell_type": "markdown",
   "metadata": {},
   "source": [
    "Per prima cosa procediamo con l'importazione delle librerie necessarie al corretto funzionamento dell'addestramento."
   ]
  },
  {
   "cell_type": "code",
   "execution_count": 119,
   "metadata": {},
   "outputs": [
    {
     "name": "stdout",
     "output_type": "stream",
     "text": [
      "Requirement already satisfied: matplotlib==3.1.1 in c:\\program files (x86)\\microsoft visual studio\\shared\\python37_64\\lib\\site-packages (from -r requirements.txt (line 1)) (3.1.1)\n",
      "Requirement already satisfied: numpy==1.17.2 in c:\\program files (x86)\\microsoft visual studio\\shared\\python37_64\\lib\\site-packages (from -r requirements.txt (line 2)) (1.17.2)\n",
      "Requirement already satisfied: pandas==1.0.5 in c:\\users\\ricca\\appdata\\roaming\\python\\python37\\site-packages (from -r requirements.txt (line 3)) (1.0.5)\n",
      "Requirement already satisfied: scikit-learn==0.23.1 in c:\\program files (x86)\\microsoft visual studio\\shared\\python37_64\\lib\\site-packages (from -r requirements.txt (line 4)) (0.23.1)\n",
      "Requirement already satisfied: seaborn==0.10.1 in c:\\users\\ricca\\appdata\\roaming\\python\\python37\\site-packages (from -r requirements.txt (line 5)) (0.10.1)\n",
      "Requirement already satisfied: kiwisolver>=1.0.1 in c:\\program files (x86)\\microsoft visual studio\\shared\\python37_64\\lib\\site-packages (from matplotlib==3.1.1->-r requirements.txt (line 1)) (1.1.0)\n",
      "Requirement already satisfied: cycler>=0.10 in c:\\program files (x86)\\microsoft visual studio\\shared\\python37_64\\lib\\site-packages (from matplotlib==3.1.1->-r requirements.txt (line 1)) (0.10.0)\n",
      "Requirement already satisfied: pyparsing!=2.0.4,!=2.1.2,!=2.1.6,>=2.0.1 in c:\\program files (x86)\\microsoft visual studio\\shared\\python37_64\\lib\\site-packages (from matplotlib==3.1.1->-r requirements.txt (line 1)) (2.4.2)\n",
      "Requirement already satisfied: python-dateutil>=2.1 in c:\\program files (x86)\\microsoft visual studio\\shared\\python37_64\\lib\\site-packages (from matplotlib==3.1.1->-r requirements.txt (line 1)) (2.8.0)\n",
      "Requirement already satisfied: pytz>=2017.2 in c:\\users\\ricca\\appdata\\roaming\\python\\python37\\site-packages (from pandas==1.0.5->-r requirements.txt (line 3)) (2020.1)\n",
      "Requirement already satisfied: joblib>=0.11 in c:\\program files (x86)\\microsoft visual studio\\shared\\python37_64\\lib\\site-packages (from scikit-learn==0.23.1->-r requirements.txt (line 4)) (0.15.1)\n",
      "Requirement already satisfied: scipy>=0.19.1 in c:\\program files (x86)\\microsoft visual studio\\shared\\python37_64\\lib\\site-packages (from scikit-learn==0.23.1->-r requirements.txt (line 4)) (1.4.1)\n",
      "Requirement already satisfied: threadpoolctl>=2.0.0 in c:\\program files (x86)\\microsoft visual studio\\shared\\python37_64\\lib\\site-packages (from scikit-learn==0.23.1->-r requirements.txt (line 4)) (2.1.0)\n",
      "Requirement already satisfied: setuptools in c:\\program files (x86)\\microsoft visual studio\\shared\\python37_64\\lib\\site-packages (from kiwisolver>=1.0.1->matplotlib==3.1.1->-r requirements.txt (line 1)) (41.4.0)\n",
      "Requirement already satisfied: six in c:\\program files (x86)\\microsoft visual studio\\shared\\python37_64\\lib\\site-packages (from cycler>=0.10->matplotlib==3.1.1->-r requirements.txt (line 1)) (1.12.0)\n"
     ]
    }
   ],
   "source": [
    "!pip install --user -r requirements.txt"
   ]
  },
  {
   "cell_type": "code",
   "execution_count": 120,
   "metadata": {},
   "outputs": [],
   "source": [
    "import pandas as pd\n",
    "import numpy as np\n",
    "import sklearn as sl\n",
    "import seaborn as sns\n",
    "import matplotlib.pyplot as plt\n",
    "\n",
    "from sklearn.metrics import confusion_matrix, plot_confusion_matrix, accuracy_score\n",
    "from sklearn.preprocessing import LabelEncoder, MinMaxScaler, StandardScaler, OrdinalEncoder\n",
    "from sklearn.pipeline import Pipeline\n",
    "from sklearn.compose import ColumnTransformer\n",
    "from sklearn.impute import SimpleImputer\n",
    "from sklearn.ensemble import RandomForestClassifier"
   ]
  },
  {
   "cell_type": "markdown",
   "metadata": {},
   "source": [
    "## Caricamento dei dataset"
   ]
  },
  {
   "cell_type": "markdown",
   "metadata": {},
   "source": [
    "Ora procediamo con il caricamento dei dataset creati nel primo file di questo progetto."
   ]
  },
  {
   "cell_type": "code",
   "execution_count": 121,
   "metadata": {},
   "outputs": [],
   "source": [
    "url_train = 'train.csv'\n",
    "url_val = 'validation.csv'\n",
    "url_test = 'test.csv'"
   ]
  },
  {
   "cell_type": "code",
   "execution_count": 122,
   "metadata": {},
   "outputs": [],
   "source": [
    "train_data = pd.read_csv(url_train)\n",
    "val_data = pd.read_csv(url_val)\n",
    "test_data =pd.read_csv(url_test)"
   ]
  },
  {
   "cell_type": "markdown",
   "metadata": {},
   "source": [
    "Verifichiamo che i dataset siano stati importati in modo corretto."
   ]
  },
  {
   "cell_type": "code",
   "execution_count": 123,
   "metadata": {},
   "outputs": [],
   "source": [
    "if train_data.empty or val_data.empty or test_data.empty:\n",
    "    raise(\"I dataset non sono stati caricati correttamente.\")"
   ]
  },
  {
   "cell_type": "markdown",
   "metadata": {},
   "source": [
    "## Analisi del dataset di train"
   ]
  },
  {
   "cell_type": "markdown",
   "metadata": {},
   "source": [
    "Ora analizziamo il dataset di train per avere maggiori informazioni per addestrare il modello"
   ]
  },
  {
   "cell_type": "code",
   "execution_count": 124,
   "metadata": {},
   "outputs": [
    {
     "name": "stdout",
     "output_type": "stream",
     "text": [
      "Shape: (56588, 14)\n",
      "Numero di righe (funghi): 56588\n",
      "Numero di colonne: 14\n"
     ]
    }
   ],
   "source": [
    "# Numero di righe e colonne nel dataset\n",
    "print(f\"Shape: {train_data.shape}\")\n",
    "print(f\"Numero di righe (funghi): {train_data.shape[0]}\")\n",
    "print(f\"Numero di colonne: {train_data.shape[1]}\")"
   ]
  },
  {
   "cell_type": "markdown",
   "metadata": {},
   "source": [
    "Osserviamo il tipo di ogni colonna."
   ]
  },
  {
   "cell_type": "code",
   "execution_count": 125,
   "metadata": {},
   "outputs": [
    {
     "data": {
      "text/plain": [
       "No-show            object\n",
       "PatientId         float64\n",
       "AppointmentID       int64\n",
       "Gender             object\n",
       "ScheduledDay       object\n",
       "AppointmentDay     object\n",
       "Age                 int64\n",
       "Neighbourhood      object\n",
       "Scholarship         int64\n",
       "Hipertension        int64\n",
       "Diabetes            int64\n",
       "Alcoholism          int64\n",
       "Handcap             int64\n",
       "SMS_received        int64\n",
       "dtype: object"
      ]
     },
     "execution_count": 125,
     "metadata": {},
     "output_type": "execute_result"
    }
   ],
   "source": [
    "test_data.dtypes"
   ]
  },
  {
   "cell_type": "markdown",
   "metadata": {},
   "source": [
    "Stampiamo i valori unici di ogni colonna."
   ]
  },
  {
   "cell_type": "code",
   "execution_count": 126,
   "metadata": {},
   "outputs": [
    {
     "name": "stdout",
     "output_type": "stream",
     "text": [
      "No-show :  ['No' 'Yes']\n",
      "\n",
      "PatientId :  [4.37417565e+04 1.41724167e+05 5.62826100e+06 ... 9.99934989e+14\n",
      " 9.99946537e+14 9.99981632e+14]\n",
      "\n",
      "AppointmentID :  [5030230 5122866 5134220 ... 5790461 5790466 5790481]\n",
      "\n",
      "Gender :  ['F' 'M']\n",
      "\n",
      "ScheduledDay :  ['2015-11-10T07:13:56Z' '2015-12-03T08:17:28Z' '2015-12-07T10:42:42Z' ...\n",
      " '2016-06-08T19:32:25Z' '2016-06-08T19:33:23Z' '2016-06-08T19:58:52Z']\n",
      "\n",
      "AppointmentDay :  ['2016-04-29T00:00:00Z' '2016-05-02T00:00:00Z' '2016-05-03T00:00:00Z'\n",
      " '2016-05-04T00:00:00Z' '2016-05-05T00:00:00Z' '2016-05-06T00:00:00Z'\n",
      " '2016-05-09T00:00:00Z' '2016-05-10T00:00:00Z' '2016-05-11T00:00:00Z'\n",
      " '2016-05-12T00:00:00Z' '2016-05-13T00:00:00Z' '2016-05-14T00:00:00Z'\n",
      " '2016-05-16T00:00:00Z' '2016-05-17T00:00:00Z' '2016-05-18T00:00:00Z'\n",
      " '2016-05-19T00:00:00Z' '2016-05-20T00:00:00Z' '2016-05-24T00:00:00Z'\n",
      " '2016-05-25T00:00:00Z' '2016-05-30T00:00:00Z' '2016-05-31T00:00:00Z'\n",
      " '2016-06-01T00:00:00Z' '2016-06-02T00:00:00Z' '2016-06-03T00:00:00Z'\n",
      " '2016-06-06T00:00:00Z' '2016-06-07T00:00:00Z' '2016-06-08T00:00:00Z']\n",
      "\n",
      "Age :  [  0   1   2   3   4   5   6   7   8   9  10  11  12  13  14  15  16  17\n",
      "  18  19  20  21  22  23  24  25  26  27  28  29  30  31  32  33  34  35\n",
      "  36  37  38  39  40  41  42  43  44  45  46  47  48  49  50  51  52  53\n",
      "  54  55  56  57  58  59  60  61  62  63  64  65  66  67  68  69  70  71\n",
      "  72  73  74  75  76  77  78  79  80  81  82  83  84  85  86  87  88  89\n",
      "  90  91  92  93  94  95  96  97  98  99 100 102 115]\n",
      "\n",
      "Neighbourhood :  ['AEROPORTO' 'ANDORINHAS' 'ANTÔNIO HONÓRIO' 'ARIOVALDO FAVALESSA'\n",
      " 'BARRO VERMELHO' 'BELA VISTA' 'BENTO FERREIRA' 'BOA VISTA' 'BONFIM'\n",
      " 'CARATOÍRA' 'CENTRO' 'COMDUSA' 'CONQUISTA' 'CONSOLAÇÃO' 'CRUZAMENTO'\n",
      " 'DA PENHA' 'DE LOURDES' 'DO CABRAL' 'DO MOSCOSO' 'DO QUADRO'\n",
      " 'ENSEADA DO SUÁ' 'ESTRELINHA' 'FONTE GRANDE' 'FORTE SÃO JOÃO' 'FRADINHOS'\n",
      " 'GOIABEIRAS' 'GRANDE VITÓRIA' 'GURIGICA' 'HORTO' 'ILHA DAS CAIEIRAS'\n",
      " 'ILHA DE SANTA MARIA' 'ILHA DO BOI' 'ILHA DO FRADE' 'ILHA DO PRÍNCIPE'\n",
      " 'INHANGUETÁ' 'ITARARÉ' 'JABOUR' 'JARDIM CAMBURI' 'JARDIM DA PENHA'\n",
      " 'JESUS DE NAZARETH' 'JOANA D´ARC' 'JUCUTUQUARA' 'MARIA ORTIZ' 'MARUÍPE'\n",
      " 'MATA DA PRAIA' 'MONTE BELO' 'MORADA DE CAMBURI' 'MÁRIO CYPRESTE'\n",
      " 'NAZARETH' 'NOVA PALESTINA' 'PARQUE INDUSTRIAL' 'PARQUE MOSCOSO'\n",
      " 'PIEDADE' 'PONTAL DE CAMBURI' 'PRAIA DO CANTO' 'PRAIA DO SUÁ' 'REDENÇÃO'\n",
      " 'REPÚBLICA' 'RESISTÊNCIA' 'ROMÃO' 'SANTA CECÍLIA' 'SANTA CLARA'\n",
      " 'SANTA HELENA' 'SANTA LUÍZA' 'SANTA LÚCIA' 'SANTA MARTHA' 'SANTA TEREZA'\n",
      " 'SANTO ANDRÉ' 'SANTO ANTÔNIO' 'SANTOS DUMONT' 'SANTOS REIS'\n",
      " 'SEGURANÇA DO LAR' 'SOLON BORGES' 'SÃO BENEDITO' 'SÃO CRISTÓVÃO'\n",
      " 'SÃO JOSÉ' 'SÃO PEDRO' 'TABUAZEIRO' 'UNIVERSITÁRIO' 'VILA RUBIM']\n",
      "\n",
      "Scholarship :  [0 1]\n",
      "\n",
      "Hipertension :  [0 1]\n",
      "\n",
      "Diabetes :  [0 1]\n",
      "\n",
      "Alcoholism :  [0 1]\n",
      "\n",
      "Handcap :  [0 1 2 3 4]\n",
      "\n",
      "SMS_received :  [0 1]\n",
      "\n"
     ]
    }
   ],
   "source": [
    "# Stampa di tutti i valori unici di ogni colonna\n",
    "for val in train_data:\n",
    "    print(val, ': ', np.sort(train_data[val].unique()))\n",
    "    print()"
   ]
  },
  {
   "cell_type": "markdown",
   "metadata": {},
   "source": [
    "Stampa delle ricorrenze dei valori di ogni colonna."
   ]
  },
  {
   "cell_type": "code",
   "execution_count": 127,
   "metadata": {},
   "outputs": [
    {
     "name": "stdout",
     "output_type": "stream",
     "text": [
      "No     45141\n",
      "Yes    11447\n",
      "Name: No-show, dtype: int64\n",
      "\n",
      "9.963767e+10    49\n",
      "2.584244e+11    39\n",
      "8.221459e+14    38\n",
      "8.923969e+13    37\n",
      "3.353478e+13    37\n",
      "                ..\n",
      "5.378671e+13     1\n",
      "2.956624e+13     1\n",
      "8.716645e+14     1\n",
      "1.659455e+12     1\n",
      "1.488646e+11     1\n",
      "Name: PatientId, Length: 39663, dtype: int64\n",
      "\n",
      "5638143    1\n",
      "5635242    1\n",
      "5721276    1\n",
      "5756054    1\n",
      "5706935    1\n",
      "          ..\n",
      "5589416    1\n",
      "5735962    1\n",
      "5740056    1\n",
      "5762583    1\n",
      "5642243    1\n",
      "Name: AppointmentID, Length: 56588, dtype: int64\n",
      "\n",
      "F    36699\n",
      "M    19889\n",
      "Name: Gender, dtype: int64\n",
      "\n",
      "2016-04-25T17:17:46Z    13\n",
      "2016-05-06T07:09:53Z    11\n",
      "2016-04-25T17:18:27Z    11\n",
      "2016-04-25T17:17:23Z    10\n",
      "2016-03-29T10:44:23Z     9\n",
      "                        ..\n",
      "2016-04-27T14:50:14Z     1\n",
      "2016-05-12T09:10:39Z     1\n",
      "2016-04-26T17:52:06Z     1\n",
      "2016-05-03T07:55:37Z     1\n",
      "2016-05-17T09:34:21Z     1\n",
      "Name: ScheduledDay, Length: 54600, dtype: int64\n",
      "\n",
      "2016-06-06T00:00:00Z    2354\n",
      "2016-05-16T00:00:00Z    2328\n",
      "2016-05-11T00:00:00Z    2315\n",
      "2016-06-01T00:00:00Z    2315\n",
      "2016-05-30T00:00:00Z    2307\n",
      "2016-05-09T00:00:00Z    2304\n",
      "2016-05-12T00:00:00Z    2290\n",
      "2016-06-08T00:00:00Z    2278\n",
      "2016-05-17T00:00:00Z    2273\n",
      "2016-05-18T00:00:00Z    2266\n",
      "2016-06-07T00:00:00Z    2262\n",
      "2016-05-31T00:00:00Z    2237\n",
      "2016-05-02T00:00:00Z    2233\n",
      "2016-05-19T00:00:00Z    2223\n",
      "2016-05-10T00:00:00Z    2189\n",
      "2016-06-02T00:00:00Z    2180\n",
      "2016-05-05T00:00:00Z    2173\n",
      "2016-05-03T00:00:00Z    2167\n",
      "2016-06-03T00:00:00Z    2133\n",
      "2016-05-04T00:00:00Z    2132\n",
      "2016-05-13T00:00:00Z    2078\n",
      "2016-05-24T00:00:00Z    2059\n",
      "2016-05-20T00:00:00Z    1957\n",
      "2016-05-25T00:00:00Z    1955\n",
      "2016-05-06T00:00:00Z    1936\n",
      "2016-04-29T00:00:00Z    1628\n",
      "2016-05-14T00:00:00Z      16\n",
      "Name: AppointmentDay, dtype: int64\n",
      "\n",
      "0      1806\n",
      "1      1158\n",
      "52      871\n",
      "2       846\n",
      "57      841\n",
      "       ... \n",
      "98        5\n",
      "100       4\n",
      "115       3\n",
      "102       2\n",
      "99        1\n",
      "Name: Age, Length: 103, dtype: int64\n",
      "\n",
      "JARDIM CAMBURI       3954\n",
      "MARIA ORTIZ          2960\n",
      "RESISTÊNCIA          2297\n",
      "JARDIM DA PENHA      1996\n",
      "ITARARÉ              1806\n",
      "                     ... \n",
      "PONTAL DE CAMBURI      40\n",
      "ILHA DO BOI            17\n",
      "AEROPORTO               6\n",
      "ILHA DO FRADE           3\n",
      "PARQUE INDUSTRIAL       1\n",
      "Name: Neighbourhood, Length: 80, dtype: int64\n",
      "\n",
      "0    50918\n",
      "1     5670\n",
      "Name: Scholarship, dtype: int64\n",
      "\n",
      "0    45344\n",
      "1    11244\n",
      "Name: Hipertension, dtype: int64\n",
      "\n",
      "0    52473\n",
      "1     4115\n",
      "Name: Diabetes, dtype: int64\n",
      "\n",
      "0    54842\n",
      "1     1746\n",
      "Name: Alcoholism, dtype: int64\n",
      "\n",
      "0    55461\n",
      "1     1016\n",
      "2       99\n",
      "3       10\n",
      "4        2\n",
      "Name: Handcap, dtype: int64\n",
      "\n",
      "0    38397\n",
      "1    18191\n",
      "Name: SMS_received, dtype: int64\n",
      "\n"
     ]
    }
   ],
   "source": [
    "# Stampa del conto dei valori presenti in ogni colonna\n",
    "for val in train_data:\n",
    "    print(train_data[val].value_counts())\n",
    "    print()"
   ]
  },
  {
   "cell_type": "markdown",
   "metadata": {},
   "source": [
    "## Rimozione delle righe con valori nulli"
   ]
  },
  {
   "cell_type": "markdown",
   "metadata": {},
   "source": [
    "Procediamo ora con il cercare se ci sono righe nulle sia sul dataset di train che su quello di test. Tali righe saranno considerate non valide e dovranno, pertanto, essere rimosse dal dataset per evitare possibili errori durante l'addestramento. I simboli che in genere vengono utilizzati per intendere le righe nulle sono: \"\", \" \", \"?\", \"nan\", \"na\", \"NaN\"."
   ]
  },
  {
   "cell_type": "markdown",
   "metadata": {},
   "source": [
    "Come prima operazione ceschiamo di trovare i valori nulli nei vari dataset:"
   ]
  },
  {
   "cell_type": "code",
   "execution_count": 128,
   "metadata": {},
   "outputs": [],
   "source": [
    "# Sostituisco ad ogni stringa vuola il valore 'NaN' nel dataset di train\n",
    "train_data.replace(\"\", np.nan, inplace=True)\n",
    "train_data.replace(\" \", np.nan, inplace=True)\n",
    "train_data.replace(\"_\", np.nan, inplace=True)\n",
    "train_data.replace(\"-\", np.nan, inplace=True)\n",
    "train_data.replace(\"?\", np.nan, inplace=True)\n",
    "train_data.replace(\"nan\", np.nan, inplace=True)\n",
    "train_data.replace(\"na\", np.nan, inplace=True)\n",
    "train_data.replace(\"NaN\", np.nan, inplace=True)\n",
    "\n",
    "# Sostituisco ad ogni stringa vuola il valore 'NaN' nel dataset di train\n",
    "val_data.replace(\"\", np.nan, inplace=True)\n",
    "val_data.replace(\" \", np.nan, inplace=True)\n",
    "val_data.replace(\"_\", np.nan, inplace=True)\n",
    "val_data.replace(\"-\", np.nan, inplace=True)\n",
    "val_data.replace(\"?\", np.nan, inplace=True)\n",
    "val_data.replace(\"nan\", np.nan, inplace=True)\n",
    "val_data.replace(\"na\", np.nan, inplace=True)\n",
    "val_data.replace(\"NaN\", np.nan, inplace=True)\n",
    "\n",
    "# Sostituisco ad ogni stringa vuola il valore 'NaN' nel dataset di test\n",
    "test_data.replace(\"\", np.nan, inplace=True)\n",
    "test_data.replace(\" \", np.nan, inplace=True)\n",
    "test_data.replace(\"_\", np.nan, inplace=True)\n",
    "test_data.replace(\"-\", np.nan, inplace=True)\n",
    "test_data.replace(\"?\", np.nan, inplace=True)\n",
    "test_data.replace(\"nan\", np.nan, inplace=True)\n",
    "test_data.replace(\"na\", np.nan, inplace=True)\n",
    "test_data.replace(\"NaN\", np.nan, inplace=True)"
   ]
  },
  {
   "cell_type": "code",
   "execution_count": 129,
   "metadata": {},
   "outputs": [
    {
     "data": {
      "text/plain": [
       "No-show           0\n",
       "PatientId         0\n",
       "AppointmentID     0\n",
       "Gender            0\n",
       "ScheduledDay      0\n",
       "AppointmentDay    0\n",
       "Age               0\n",
       "Neighbourhood     0\n",
       "Scholarship       0\n",
       "Hipertension      0\n",
       "Diabetes          0\n",
       "Alcoholism        0\n",
       "Handcap           0\n",
       "SMS_received      0\n",
       "dtype: int64"
      ]
     },
     "execution_count": 129,
     "metadata": {},
     "output_type": "execute_result"
    }
   ],
   "source": [
    "# Controllo dei dati non validi (NaN) nel dataset di train\n",
    "train_data.isna().sum()"
   ]
  },
  {
   "cell_type": "code",
   "execution_count": 130,
   "metadata": {},
   "outputs": [
    {
     "data": {
      "text/plain": [
       "No-show           0\n",
       "PatientId         0\n",
       "AppointmentID     0\n",
       "Gender            0\n",
       "ScheduledDay      0\n",
       "AppointmentDay    0\n",
       "Age               0\n",
       "Neighbourhood     0\n",
       "Scholarship       0\n",
       "Hipertension      0\n",
       "Diabetes          0\n",
       "Alcoholism        0\n",
       "Handcap           0\n",
       "SMS_received      0\n",
       "dtype: int64"
      ]
     },
     "execution_count": 130,
     "metadata": {},
     "output_type": "execute_result"
    }
   ],
   "source": [
    "# Controllo dei dati non validi (NaN) nel dataset di validation\n",
    "train_data.isna().sum()"
   ]
  },
  {
   "cell_type": "code",
   "execution_count": 131,
   "metadata": {},
   "outputs": [
    {
     "data": {
      "text/plain": [
       "No-show           0\n",
       "PatientId         0\n",
       "AppointmentID     0\n",
       "Gender            0\n",
       "ScheduledDay      0\n",
       "AppointmentDay    0\n",
       "Age               0\n",
       "Neighbourhood     0\n",
       "Scholarship       0\n",
       "Hipertension      0\n",
       "Diabetes          0\n",
       "Alcoholism        0\n",
       "Handcap           0\n",
       "SMS_received      0\n",
       "dtype: int64"
      ]
     },
     "execution_count": 131,
     "metadata": {},
     "output_type": "execute_result"
    }
   ],
   "source": [
    "# Controllo dei dati non validi (NaN) nel dataset di test\n",
    "test_data.isna().sum()"
   ]
  },
  {
   "cell_type": "markdown",
   "metadata": {},
   "source": [
    "Adesso procediamo con la rimozione di tali valori:"
   ]
  },
  {
   "cell_type": "code",
   "execution_count": 132,
   "metadata": {},
   "outputs": [],
   "source": [
    "# Procediamo con l'eliminazione dei dati non validi (NaN)\n",
    "test_data.dropna(inplace=True)\n",
    "val_data.dropna(inplace=True)\n",
    "train_data.dropna(inplace=True)"
   ]
  },
  {
   "cell_type": "markdown",
   "metadata": {},
   "source": [
    "Controlliamo che questi valori siano stati rimossi:"
   ]
  },
  {
   "cell_type": "code",
   "execution_count": 133,
   "metadata": {},
   "outputs": [
    {
     "data": {
      "text/plain": [
       "No-show           0\n",
       "PatientId         0\n",
       "AppointmentID     0\n",
       "Gender            0\n",
       "ScheduledDay      0\n",
       "AppointmentDay    0\n",
       "Age               0\n",
       "Neighbourhood     0\n",
       "Scholarship       0\n",
       "Hipertension      0\n",
       "Diabetes          0\n",
       "Alcoholism        0\n",
       "Handcap           0\n",
       "SMS_received      0\n",
       "dtype: int64"
      ]
     },
     "execution_count": 133,
     "metadata": {},
     "output_type": "execute_result"
    }
   ],
   "source": [
    "# Controllo dei dati non validi (NaN) nel dataset di train\n",
    "train_data.isna().sum()"
   ]
  },
  {
   "cell_type": "code",
   "execution_count": 134,
   "metadata": {},
   "outputs": [
    {
     "data": {
      "text/plain": [
       "No-show           0\n",
       "PatientId         0\n",
       "AppointmentID     0\n",
       "Gender            0\n",
       "ScheduledDay      0\n",
       "AppointmentDay    0\n",
       "Age               0\n",
       "Neighbourhood     0\n",
       "Scholarship       0\n",
       "Hipertension      0\n",
       "Diabetes          0\n",
       "Alcoholism        0\n",
       "Handcap           0\n",
       "SMS_received      0\n",
       "dtype: int64"
      ]
     },
     "execution_count": 134,
     "metadata": {},
     "output_type": "execute_result"
    }
   ],
   "source": [
    "# Controllo dei dati non validi (NaN) nel dataset di validation\n",
    "train_data.isna().sum()"
   ]
  },
  {
   "cell_type": "code",
   "execution_count": 135,
   "metadata": {},
   "outputs": [
    {
     "data": {
      "text/plain": [
       "No-show           0\n",
       "PatientId         0\n",
       "AppointmentID     0\n",
       "Gender            0\n",
       "ScheduledDay      0\n",
       "AppointmentDay    0\n",
       "Age               0\n",
       "Neighbourhood     0\n",
       "Scholarship       0\n",
       "Hipertension      0\n",
       "Diabetes          0\n",
       "Alcoholism        0\n",
       "Handcap           0\n",
       "SMS_received      0\n",
       "dtype: int64"
      ]
     },
     "execution_count": 135,
     "metadata": {},
     "output_type": "execute_result"
    }
   ],
   "source": [
    "# Controllo dei dati non validi (NaN) nel dataset di test\n",
    "test_data.isna().sum()"
   ]
  },
  {
   "cell_type": "markdown",
   "metadata": {},
   "source": [
    "## Statistiche sul dataset"
   ]
  },
  {
   "cell_type": "markdown",
   "metadata": {},
   "source": [
    "Vediamo ora un po' di statistiche dei valori contenuti nel dataset."
   ]
  },
  {
   "cell_type": "code",
   "execution_count": 136,
   "metadata": {},
   "outputs": [
    {
     "data": {
      "text/html": [
       "<div>\n",
       "<style scoped>\n",
       "    .dataframe tbody tr th:only-of-type {\n",
       "        vertical-align: middle;\n",
       "    }\n",
       "\n",
       "    .dataframe tbody tr th {\n",
       "        vertical-align: top;\n",
       "    }\n",
       "\n",
       "    .dataframe thead th {\n",
       "        text-align: right;\n",
       "    }\n",
       "</style>\n",
       "<table border=\"1\" class=\"dataframe\">\n",
       "  <thead>\n",
       "    <tr style=\"text-align: right;\">\n",
       "      <th></th>\n",
       "      <th>PatientId</th>\n",
       "      <th>AppointmentID</th>\n",
       "      <th>Age</th>\n",
       "      <th>Scholarship</th>\n",
       "      <th>Hipertension</th>\n",
       "      <th>Diabetes</th>\n",
       "      <th>Alcoholism</th>\n",
       "      <th>Handcap</th>\n",
       "      <th>SMS_received</th>\n",
       "    </tr>\n",
       "  </thead>\n",
       "  <tbody>\n",
       "    <tr>\n",
       "      <th>count</th>\n",
       "      <td>5.658800e+04</td>\n",
       "      <td>5.658800e+04</td>\n",
       "      <td>56588.000000</td>\n",
       "      <td>56588.000000</td>\n",
       "      <td>56588.000000</td>\n",
       "      <td>56588.000000</td>\n",
       "      <td>56588.000000</td>\n",
       "      <td>56588.000000</td>\n",
       "      <td>56588.000000</td>\n",
       "    </tr>\n",
       "    <tr>\n",
       "      <th>mean</th>\n",
       "      <td>1.484267e+14</td>\n",
       "      <td>5.675246e+06</td>\n",
       "      <td>37.127783</td>\n",
       "      <td>0.100198</td>\n",
       "      <td>0.198699</td>\n",
       "      <td>0.072719</td>\n",
       "      <td>0.030855</td>\n",
       "      <td>0.022125</td>\n",
       "      <td>0.321464</td>\n",
       "    </tr>\n",
       "    <tr>\n",
       "      <th>std</th>\n",
       "      <td>2.572179e+14</td>\n",
       "      <td>7.145009e+04</td>\n",
       "      <td>23.103861</td>\n",
       "      <td>0.300266</td>\n",
       "      <td>0.399025</td>\n",
       "      <td>0.259676</td>\n",
       "      <td>0.172925</td>\n",
       "      <td>0.163154</td>\n",
       "      <td>0.467043</td>\n",
       "    </tr>\n",
       "    <tr>\n",
       "      <th>min</th>\n",
       "      <td>4.374176e+04</td>\n",
       "      <td>5.030230e+06</td>\n",
       "      <td>0.000000</td>\n",
       "      <td>0.000000</td>\n",
       "      <td>0.000000</td>\n",
       "      <td>0.000000</td>\n",
       "      <td>0.000000</td>\n",
       "      <td>0.000000</td>\n",
       "      <td>0.000000</td>\n",
       "    </tr>\n",
       "    <tr>\n",
       "      <th>25%</th>\n",
       "      <td>4.148654e+12</td>\n",
       "      <td>5.640432e+06</td>\n",
       "      <td>18.000000</td>\n",
       "      <td>0.000000</td>\n",
       "      <td>0.000000</td>\n",
       "      <td>0.000000</td>\n",
       "      <td>0.000000</td>\n",
       "      <td>0.000000</td>\n",
       "      <td>0.000000</td>\n",
       "    </tr>\n",
       "    <tr>\n",
       "      <th>50%</th>\n",
       "      <td>3.190606e+13</td>\n",
       "      <td>5.680798e+06</td>\n",
       "      <td>37.000000</td>\n",
       "      <td>0.000000</td>\n",
       "      <td>0.000000</td>\n",
       "      <td>0.000000</td>\n",
       "      <td>0.000000</td>\n",
       "      <td>0.000000</td>\n",
       "      <td>0.000000</td>\n",
       "    </tr>\n",
       "    <tr>\n",
       "      <th>75%</th>\n",
       "      <td>9.475128e+13</td>\n",
       "      <td>5.725426e+06</td>\n",
       "      <td>55.000000</td>\n",
       "      <td>0.000000</td>\n",
       "      <td>0.000000</td>\n",
       "      <td>0.000000</td>\n",
       "      <td>0.000000</td>\n",
       "      <td>0.000000</td>\n",
       "      <td>1.000000</td>\n",
       "    </tr>\n",
       "    <tr>\n",
       "      <th>max</th>\n",
       "      <td>9.999816e+14</td>\n",
       "      <td>5.790481e+06</td>\n",
       "      <td>115.000000</td>\n",
       "      <td>1.000000</td>\n",
       "      <td>1.000000</td>\n",
       "      <td>1.000000</td>\n",
       "      <td>1.000000</td>\n",
       "      <td>4.000000</td>\n",
       "      <td>1.000000</td>\n",
       "    </tr>\n",
       "  </tbody>\n",
       "</table>\n",
       "</div>"
      ],
      "text/plain": [
       "          PatientId  AppointmentID           Age   Scholarship  Hipertension  \\\n",
       "count  5.658800e+04   5.658800e+04  56588.000000  56588.000000  56588.000000   \n",
       "mean   1.484267e+14   5.675246e+06     37.127783      0.100198      0.198699   \n",
       "std    2.572179e+14   7.145009e+04     23.103861      0.300266      0.399025   \n",
       "min    4.374176e+04   5.030230e+06      0.000000      0.000000      0.000000   \n",
       "25%    4.148654e+12   5.640432e+06     18.000000      0.000000      0.000000   \n",
       "50%    3.190606e+13   5.680798e+06     37.000000      0.000000      0.000000   \n",
       "75%    9.475128e+13   5.725426e+06     55.000000      0.000000      0.000000   \n",
       "max    9.999816e+14   5.790481e+06    115.000000      1.000000      1.000000   \n",
       "\n",
       "           Diabetes    Alcoholism       Handcap  SMS_received  \n",
       "count  56588.000000  56588.000000  56588.000000  56588.000000  \n",
       "mean       0.072719      0.030855      0.022125      0.321464  \n",
       "std        0.259676      0.172925      0.163154      0.467043  \n",
       "min        0.000000      0.000000      0.000000      0.000000  \n",
       "25%        0.000000      0.000000      0.000000      0.000000  \n",
       "50%        0.000000      0.000000      0.000000      0.000000  \n",
       "75%        0.000000      0.000000      0.000000      1.000000  \n",
       "max        1.000000      1.000000      4.000000      1.000000  "
      ]
     },
     "execution_count": 136,
     "metadata": {},
     "output_type": "execute_result"
    }
   ],
   "source": [
    "# Statistiche del dataset\n",
    "train_data.describe()"
   ]
  },
  {
   "cell_type": "markdown",
   "metadata": {},
   "source": [
    "Osserviamo le quantità di persone che si sono presentate alla visita."
   ]
  },
  {
   "cell_type": "code",
   "execution_count": 137,
   "metadata": {},
   "outputs": [
    {
     "data": {
      "text/plain": [
       "No     45141\n",
       "Yes    11447\n",
       "Name: No-show, dtype: int64"
      ]
     },
     "execution_count": 137,
     "metadata": {},
     "output_type": "execute_result"
    }
   ],
   "source": [
    "# Numero delle persone che non si sono presentate alla visita (No-show)\n",
    "# No: si sono presentati\n",
    "# Yes: non si sono presentati\n",
    "train_data['No-show'].value_counts()"
   ]
  },
  {
   "cell_type": "code",
   "execution_count": 138,
   "metadata": {},
   "outputs": [
    {
     "data": {
      "text/plain": [
       "<matplotlib.axes._subplots.AxesSubplot at 0x1fef7b05ac8>"
      ]
     },
     "execution_count": 138,
     "metadata": {},
     "output_type": "execute_result"
    },
    {
     "data": {
      "image/png": "[encoded data removed]",
      "text/plain": [
       "<Figure size 432x288 with 1 Axes>"
      ]
     },
     "metadata": {
      "needs_background": "light"
     },
     "output_type": "display_data"
    }
   ],
   "source": [
    "# Diagramma che confronta le persone che hanno lasciato la compagnia telefonica\n",
    "sns.countplot(train_data['No-show'])"
   ]
  },
  {
   "cell_type": "markdown",
   "metadata": {},
   "source": [
    "Ora invece mettiamo in relazione le features del dataset con la quantità di gente che non si è presentata alla visita prenotata."
   ]
  },
  {
   "cell_type": "code",
   "execution_count": 139,
   "metadata": {},
   "outputs": [
    {
     "data": {
      "image/png": "[encoded data removed]",
      "text/plain": [
       "<Figure size 1152x1440 with 10 Axes>"
      ]
     },
     "metadata": {
      "needs_background": "light"
     },
     "output_type": "display_data"
    }
   ],
   "source": [
    "# Alcuni grafici che mettono in relazione le features\n",
    "# del dataset con le persone che non si sono presentati alla visita\n",
    "\n",
    "cols = ['Gender', 'AppointmentDay', 'Age', 'Neighbourhood', 'Scholarship',\n",
    "       'Hipertension', 'Diabetes', 'Alcoholism', 'Handcap', 'SMS_received']\n",
    "\n",
    "n_rows = 5\n",
    "n_cols = 2\n",
    "\n",
    "fig, axs = plt.subplots(n_rows, n_cols, figsize=(n_cols*8, n_rows*4))\n",
    "i=0\n",
    "for r in range(n_rows):\n",
    "    for c in range(n_cols):\n",
    "        ax = axs[r][c]\n",
    "        sns.countplot(train_data[cols[i]], hue=train_data['No-show'], ax=ax)\n",
    "        ax.set_title(cols[i])\n",
    "        ax.legend(title='No-show', loc='upper right')\n",
    "        i+=1\n",
    "    \n",
    "plt.tight_layout()"
   ]
  },
  {
   "cell_type": "markdown",
   "metadata": {},
   "source": [
    "## Modifica di alcune colonne"
   ]
  },
  {
   "cell_type": "markdown",
   "metadata": {},
   "source": [
    "Una delle prime cose che abbiamo potuto osservare fino ad ora è come le date vengano gestite come degli oggetti. Invece di considerare ScheduledDay e AppointmentDay come due date separate possiamo aggregarle prendendone la differenza. Aggiungiamo, inoltre, anche una nuova colonna che contiene il giorno della settimana in cui è previsto l'appuntamento."
   ]
  },
  {
   "cell_type": "code",
   "execution_count": 140,
   "metadata": {},
   "outputs": [],
   "source": [
    "# Funzione che restituisce una lista contenete la differenza\n",
    "# tra le date di appuntamento e le date di quando l'appuntamento\n",
    "# è stato preso.\n",
    "def make_timedelta(data):\n",
    "    app_day = pd.to_datetime(data['AppointmentDay']).dt.date\n",
    "    sch_day = pd.to_datetime(data['ScheduledDay']).dt.date\n",
    "\n",
    "    time_delta = []\n",
    "    for elem_app, elem_shc in zip (app_day, sch_day):\n",
    "        time_delta.append((elem_app-elem_shc).days)\n",
    "    \n",
    "    return time_delta"
   ]
  },
  {
   "cell_type": "code",
   "execution_count": 141,
   "metadata": {},
   "outputs": [],
   "source": [
    "\n",
    "# Funzione che restituisce una lista contenente i giorni della\n",
    "# settimana in cui deve avvenire l'appuntamento\n",
    "def get_weekday(data):\n",
    "    app_day = pd.to_datetime(data['AppointmentDay']).dt.date\n",
    "\n",
    "    weekdays = []\n",
    "    for elem_app in  app_day:\n",
    "        weekdays.append((elem_app.weekday()))\n",
    "    \n",
    "    return weekdays"
   ]
  },
  {
   "cell_type": "code",
   "execution_count": 142,
   "metadata": {},
   "outputs": [],
   "source": [
    "# Creazione di una colonna che contiene la differenza tra 'AppointmentDay'\n",
    "# e 'ScheduledDay' nel file di train. Le stesse colonne verranno anche eliminate\n",
    "# dal dataset.\n",
    "train_data['Time_delta'] = make_timedelta(train_data)\n",
    "train_data['Week_day'] = get_weekday(train_data)\n",
    "\n",
    "# Creazione di una colonna che contiene la differenza tra 'AppointmentDay'\n",
    "# e 'ScheduledDay' nel file di test. Le stesse colonne verranno anche eliminate\n",
    "# dal dataset.\n",
    "test_data['Time_delta'] = make_timedelta(test_data)\n",
    "test_data['Week_day'] = get_weekday(test_data)"
   ]
  },
  {
   "cell_type": "code",
   "execution_count": 143,
   "metadata": {},
   "outputs": [
    {
     "data": {
      "text/html": [
       "<div>\n",
       "<style scoped>\n",
       "    .dataframe tbody tr th:only-of-type {\n",
       "        vertical-align: middle;\n",
       "    }\n",
       "\n",
       "    .dataframe tbody tr th {\n",
       "        vertical-align: top;\n",
       "    }\n",
       "\n",
       "    .dataframe thead th {\n",
       "        text-align: right;\n",
       "    }\n",
       "</style>\n",
       "<table border=\"1\" class=\"dataframe\">\n",
       "  <thead>\n",
       "    <tr style=\"text-align: right;\">\n",
       "      <th></th>\n",
       "      <th>No-show</th>\n",
       "      <th>PatientId</th>\n",
       "      <th>AppointmentID</th>\n",
       "      <th>Gender</th>\n",
       "      <th>ScheduledDay</th>\n",
       "      <th>AppointmentDay</th>\n",
       "      <th>Age</th>\n",
       "      <th>Neighbourhood</th>\n",
       "      <th>Scholarship</th>\n",
       "      <th>Hipertension</th>\n",
       "      <th>Diabetes</th>\n",
       "      <th>Alcoholism</th>\n",
       "      <th>Handcap</th>\n",
       "      <th>SMS_received</th>\n",
       "      <th>Time_delta</th>\n",
       "      <th>Week_day</th>\n",
       "    </tr>\n",
       "  </thead>\n",
       "  <tbody>\n",
       "    <tr>\n",
       "      <th>0</th>\n",
       "      <td>No</td>\n",
       "      <td>9.333939e+14</td>\n",
       "      <td>5696967</td>\n",
       "      <td>M</td>\n",
       "      <td>2016-05-13T14:43:45Z</td>\n",
       "      <td>2016-05-17T00:00:00Z</td>\n",
       "      <td>10</td>\n",
       "      <td>JARDIM CAMBURI</td>\n",
       "      <td>0</td>\n",
       "      <td>0</td>\n",
       "      <td>0</td>\n",
       "      <td>0</td>\n",
       "      <td>0</td>\n",
       "      <td>0</td>\n",
       "      <td>4</td>\n",
       "      <td>1</td>\n",
       "    </tr>\n",
       "    <tr>\n",
       "      <th>1</th>\n",
       "      <td>No</td>\n",
       "      <td>6.383944e+12</td>\n",
       "      <td>5656790</td>\n",
       "      <td>F</td>\n",
       "      <td>2016-05-04T08:31:35Z</td>\n",
       "      <td>2016-05-04T00:00:00Z</td>\n",
       "      <td>14</td>\n",
       "      <td>NOVA PALESTINA</td>\n",
       "      <td>0</td>\n",
       "      <td>0</td>\n",
       "      <td>0</td>\n",
       "      <td>0</td>\n",
       "      <td>0</td>\n",
       "      <td>0</td>\n",
       "      <td>0</td>\n",
       "      <td>2</td>\n",
       "    </tr>\n",
       "    <tr>\n",
       "      <th>2</th>\n",
       "      <td>No</td>\n",
       "      <td>1.333989e+12</td>\n",
       "      <td>5675741</td>\n",
       "      <td>M</td>\n",
       "      <td>2016-05-09T14:16:29Z</td>\n",
       "      <td>2016-05-10T00:00:00Z</td>\n",
       "      <td>44</td>\n",
       "      <td>JARDIM CAMBURI</td>\n",
       "      <td>0</td>\n",
       "      <td>0</td>\n",
       "      <td>0</td>\n",
       "      <td>0</td>\n",
       "      <td>0</td>\n",
       "      <td>0</td>\n",
       "      <td>1</td>\n",
       "      <td>1</td>\n",
       "    </tr>\n",
       "    <tr>\n",
       "      <th>3</th>\n",
       "      <td>No</td>\n",
       "      <td>8.928723e+13</td>\n",
       "      <td>5646002</td>\n",
       "      <td>F</td>\n",
       "      <td>2016-05-02T10:42:21Z</td>\n",
       "      <td>2016-05-19T00:00:00Z</td>\n",
       "      <td>65</td>\n",
       "      <td>JARDIM DA PENHA</td>\n",
       "      <td>0</td>\n",
       "      <td>1</td>\n",
       "      <td>0</td>\n",
       "      <td>0</td>\n",
       "      <td>0</td>\n",
       "      <td>0</td>\n",
       "      <td>17</td>\n",
       "      <td>3</td>\n",
       "    </tr>\n",
       "    <tr>\n",
       "      <th>4</th>\n",
       "      <td>No</td>\n",
       "      <td>3.149150e+14</td>\n",
       "      <td>5700768</td>\n",
       "      <td>F</td>\n",
       "      <td>2016-05-16T09:45:46Z</td>\n",
       "      <td>2016-05-20T00:00:00Z</td>\n",
       "      <td>2</td>\n",
       "      <td>ANDORINHAS</td>\n",
       "      <td>0</td>\n",
       "      <td>0</td>\n",
       "      <td>0</td>\n",
       "      <td>0</td>\n",
       "      <td>0</td>\n",
       "      <td>0</td>\n",
       "      <td>4</td>\n",
       "      <td>4</td>\n",
       "    </tr>\n",
       "    <tr>\n",
       "      <th>5</th>\n",
       "      <td>Yes</td>\n",
       "      <td>7.489962e+12</td>\n",
       "      <td>5620718</td>\n",
       "      <td>M</td>\n",
       "      <td>2016-04-26T09:21:13Z</td>\n",
       "      <td>2016-05-19T00:00:00Z</td>\n",
       "      <td>57</td>\n",
       "      <td>SANTOS DUMONT</td>\n",
       "      <td>0</td>\n",
       "      <td>1</td>\n",
       "      <td>0</td>\n",
       "      <td>0</td>\n",
       "      <td>0</td>\n",
       "      <td>0</td>\n",
       "      <td>23</td>\n",
       "      <td>3</td>\n",
       "    </tr>\n",
       "    <tr>\n",
       "      <th>6</th>\n",
       "      <td>No</td>\n",
       "      <td>6.354497e+12</td>\n",
       "      <td>5766473</td>\n",
       "      <td>F</td>\n",
       "      <td>2016-06-02T15:11:19Z</td>\n",
       "      <td>2016-06-02T00:00:00Z</td>\n",
       "      <td>77</td>\n",
       "      <td>JARDIM CAMBURI</td>\n",
       "      <td>0</td>\n",
       "      <td>0</td>\n",
       "      <td>0</td>\n",
       "      <td>0</td>\n",
       "      <td>0</td>\n",
       "      <td>0</td>\n",
       "      <td>0</td>\n",
       "      <td>3</td>\n",
       "    </tr>\n",
       "    <tr>\n",
       "      <th>7</th>\n",
       "      <td>Yes</td>\n",
       "      <td>6.966595e+13</td>\n",
       "      <td>5622376</td>\n",
       "      <td>M</td>\n",
       "      <td>2016-04-26T12:00:07Z</td>\n",
       "      <td>2016-05-25T00:00:00Z</td>\n",
       "      <td>7</td>\n",
       "      <td>ILHA DE SANTA MARIA</td>\n",
       "      <td>0</td>\n",
       "      <td>0</td>\n",
       "      <td>0</td>\n",
       "      <td>0</td>\n",
       "      <td>0</td>\n",
       "      <td>0</td>\n",
       "      <td>29</td>\n",
       "      <td>2</td>\n",
       "    </tr>\n",
       "    <tr>\n",
       "      <th>8</th>\n",
       "      <td>No</td>\n",
       "      <td>7.879474e+13</td>\n",
       "      <td>5589693</td>\n",
       "      <td>F</td>\n",
       "      <td>2016-04-15T12:42:49Z</td>\n",
       "      <td>2016-04-29T00:00:00Z</td>\n",
       "      <td>33</td>\n",
       "      <td>CARATOÍRA</td>\n",
       "      <td>1</td>\n",
       "      <td>0</td>\n",
       "      <td>0</td>\n",
       "      <td>0</td>\n",
       "      <td>0</td>\n",
       "      <td>1</td>\n",
       "      <td>14</td>\n",
       "      <td>4</td>\n",
       "    </tr>\n",
       "    <tr>\n",
       "      <th>9</th>\n",
       "      <td>No</td>\n",
       "      <td>9.694418e+13</td>\n",
       "      <td>5644263</td>\n",
       "      <td>F</td>\n",
       "      <td>2016-05-02T08:27:31Z</td>\n",
       "      <td>2016-05-03T00:00:00Z</td>\n",
       "      <td>66</td>\n",
       "      <td>MARUÍPE</td>\n",
       "      <td>1</td>\n",
       "      <td>0</td>\n",
       "      <td>0</td>\n",
       "      <td>0</td>\n",
       "      <td>0</td>\n",
       "      <td>0</td>\n",
       "      <td>1</td>\n",
       "      <td>1</td>\n",
       "    </tr>\n",
       "  </tbody>\n",
       "</table>\n",
       "</div>"
      ],
      "text/plain": [
       "  No-show     PatientId  AppointmentID Gender          ScheduledDay  \\\n",
       "0      No  9.333939e+14        5696967      M  2016-05-13T14:43:45Z   \n",
       "1      No  6.383944e+12        5656790      F  2016-05-04T08:31:35Z   \n",
       "2      No  1.333989e+12        5675741      M  2016-05-09T14:16:29Z   \n",
       "3      No  8.928723e+13        5646002      F  2016-05-02T10:42:21Z   \n",
       "4      No  3.149150e+14        5700768      F  2016-05-16T09:45:46Z   \n",
       "5     Yes  7.489962e+12        5620718      M  2016-04-26T09:21:13Z   \n",
       "6      No  6.354497e+12        5766473      F  2016-06-02T15:11:19Z   \n",
       "7     Yes  6.966595e+13        5622376      M  2016-04-26T12:00:07Z   \n",
       "8      No  7.879474e+13        5589693      F  2016-04-15T12:42:49Z   \n",
       "9      No  9.694418e+13        5644263      F  2016-05-02T08:27:31Z   \n",
       "\n",
       "         AppointmentDay  Age        Neighbourhood  Scholarship  Hipertension  \\\n",
       "0  2016-05-17T00:00:00Z   10       JARDIM CAMBURI            0             0   \n",
       "1  2016-05-04T00:00:00Z   14       NOVA PALESTINA            0             0   \n",
       "2  2016-05-10T00:00:00Z   44       JARDIM CAMBURI            0             0   \n",
       "3  2016-05-19T00:00:00Z   65      JARDIM DA PENHA            0             1   \n",
       "4  2016-05-20T00:00:00Z    2           ANDORINHAS            0             0   \n",
       "5  2016-05-19T00:00:00Z   57        SANTOS DUMONT            0             1   \n",
       "6  2016-06-02T00:00:00Z   77       JARDIM CAMBURI            0             0   \n",
       "7  2016-05-25T00:00:00Z    7  ILHA DE SANTA MARIA            0             0   \n",
       "8  2016-04-29T00:00:00Z   33            CARATOÍRA            1             0   \n",
       "9  2016-05-03T00:00:00Z   66              MARUÍPE            1             0   \n",
       "\n",
       "   Diabetes  Alcoholism  Handcap  SMS_received  Time_delta  Week_day  \n",
       "0         0           0        0             0           4         1  \n",
       "1         0           0        0             0           0         2  \n",
       "2         0           0        0             0           1         1  \n",
       "3         0           0        0             0          17         3  \n",
       "4         0           0        0             0           4         4  \n",
       "5         0           0        0             0          23         3  \n",
       "6         0           0        0             0           0         3  \n",
       "7         0           0        0             0          29         2  \n",
       "8         0           0        0             1          14         4  \n",
       "9         0           0        0             0           1         1  "
      ]
     },
     "execution_count": 143,
     "metadata": {},
     "output_type": "execute_result"
    }
   ],
   "source": [
    "train_data.head(10)"
   ]
  },
  {
   "cell_type": "markdown",
   "metadata": {},
   "source": [
    "Come per prima creiamo dei grafici per mettere in relazione queste due nuove colonne con le persone che non si sono presentate alle visite che avevano prenotato."
   ]
  },
  {
   "cell_type": "code",
   "execution_count": 144,
   "metadata": {},
   "outputs": [
    {
     "data": {
      "image/png": "[encoded data removed]",
      "text/plain": [
       "<Figure size 1152x288 with 2 Axes>"
      ]
     },
     "metadata": {
      "needs_background": "light"
     },
     "output_type": "display_data"
    }
   ],
   "source": [
    "# Stampa dei grafici che mettono in relazione le colonne appena\n",
    "# create con le persone che non si sono presentati alla visita\n",
    "\n",
    "cols = ['Time_delta', 'Week_day']\n",
    "\n",
    "n_rows = 1\n",
    "n_cols = 2\n",
    "\n",
    "fig, axs = plt.subplots(n_rows, n_cols, figsize=(n_cols*8, n_rows*4))\n",
    "i=0\n",
    "for r in range(n_rows):\n",
    "    for c in range(n_cols):\n",
    "        ax = axs[c]\n",
    "        sns.countplot(train_data[cols[i]], hue=train_data['No-show'], ax=ax)\n",
    "        ax.set_title(cols[i])\n",
    "        ax.legend(title='No-show', loc='upper right')\n",
    "        i+=1\n",
    "    \n",
    "plt.tight_layout()"
   ]
  },
  {
   "cell_type": "markdown",
   "metadata": {},
   "source": [
    "Si osserva come minore sia la distanza tra il giorno dell'appuntamento e il giorno della prenotazione, maggiore è la possibilità che una persona si presenti."
   ]
  },
  {
   "cell_type": "markdown",
   "metadata": {},
   "source": [
    "## Divisione del dataset"
   ]
  },
  {
   "cell_type": "markdown",
   "metadata": {},
   "source": [
    "Ora iniziamo a prepararci per l'addestramento del modello. Per prima cosa, dopo aver deciso le features su cui addestrare la rete, procediamo con la divisione del dataset in due parti: y che contiene solo la colonna delle label e X che conterrà tutto il resto."
   ]
  },
  {
   "cell_type": "code",
   "execution_count": 145,
   "metadata": {},
   "outputs": [],
   "source": [
    "# Scegliamo la colonna su cui si desidera addestrare la rete, ovvero\n",
    "# la nostra 'label'\n",
    "label = 'No-show'\n",
    "\n",
    "# Scegliamo le colonne su cui NON voglimo addestrare il modello\n",
    "not_features = ['AppointmentID', 'Gender', 'AppointmentDay', 'ScheduledDay']"
   ]
  },
  {
   "cell_type": "code",
   "execution_count": 146,
   "metadata": {},
   "outputs": [],
   "source": [
    "# Dividiamo il train-set e il test-set in due parti così da poter addestrare la rete:\n",
    "# y che contiene solo la colonna label 'No-show' che consiste nella soluzione al problema\n",
    "# X che contiene tutte le altre colonne specificate in 'features'.\n",
    "y_train = train_data.pop(label)\n",
    "X_train = train_data.drop(not_features, axis=1)\n",
    "\n",
    "y_test = test_data.pop(label)\n",
    "X_test = test_data.drop(not_features, axis=1)"
   ]
  },
  {
   "cell_type": "markdown",
   "metadata": {},
   "source": [
    "## Modello"
   ]
  },
  {
   "cell_type": "markdown",
   "metadata": {},
   "source": [
    "La creazione del modello si divide in due fasi, una prima che si occuperà della fase di preprocessing dei dati del dataset e una seconda in cui verrà dichiarato il classificatore. Questi due verranno poi inseriti in una Pipeline."
   ]
  },
  {
   "cell_type": "markdown",
   "metadata": {},
   "source": [
    "### Preprocessng dei dati"
   ]
  },
  {
   "cell_type": "markdown",
   "metadata": {},
   "source": [
    "Per prima cosa eseguiamo l'encoder sulla colonna label y."
   ]
  },
  {
   "cell_type": "code",
   "execution_count": 147,
   "metadata": {},
   "outputs": [],
   "source": [
    "label_encoder = LabelEncoder()\n",
    "y_train = label_encoder.fit_transform(y_train)\n",
    "y_test = label_encoder.transform(y_test)"
   ]
  },
  {
   "cell_type": "markdown",
   "metadata": {},
   "source": [
    "Poi procediamo con la creazione di una Pipelin che si occuperà di processare i dati in ingresso del dataset X. Questa seconda parte è divisa in due Pipeline, una che si occupa di processare i dati numerici e una seconda che ineve farà l'encoder dei dati categorici."
   ]
  },
  {
   "cell_type": "code",
   "execution_count": 148,
   "metadata": {
    "scrolled": true
   },
   "outputs": [],
   "source": [
    "# Definiamo le colonne che sono in forma numerica\n",
    "numeric_features = list(X_train.select_dtypes(include=['int16', 'int32', 'int64', 'float16', 'float32', 'float64']))\n",
    "not_numeric_features = list(X_train.columns[X_train.dtypes=='object'])"
   ]
  },
  {
   "cell_type": "code",
   "execution_count": 149,
   "metadata": {},
   "outputs": [],
   "source": [
    "# Definiamo una Pipeline per la codifica dei valori Numerici\n",
    "numeric_transformer = Pipeline(\n",
    "    steps=[('simple_imputer', SimpleImputer(strategy='median')),\n",
    "    ('scaler', StandardScaler())])"
   ]
  },
  {
   "cell_type": "code",
   "execution_count": 150,
   "metadata": {},
   "outputs": [],
   "source": [
    "# Definiamo una Pipeline per la codifica dei valori NON Numerici\n",
    "not_numeric_transformer = Pipeline(\n",
    "    steps=[('simple_imputer', SimpleImputer(strategy='most_frequent')),\n",
    "           ('categorical', OrdinalEncoder())])"
   ]
  },
  {
   "cell_type": "markdown",
   "metadata": {},
   "source": [
    "Infine assembliamo le Pipeline fino ad ora create in un trasformer per colonne."
   ]
  },
  {
   "cell_type": "code",
   "execution_count": 151,
   "metadata": {},
   "outputs": [],
   "source": [
    "preprocessor = ColumnTransformer(\n",
    "    transformers=[('numeric_transformer', numeric_transformer, numeric_features),\n",
    "                  ('not_numeric_transformer', not_numeric_transformer, not_numeric_features)])"
   ]
  },
  {
   "cell_type": "markdown",
   "metadata": {},
   "source": [
    "### Dichiarazione del modello"
   ]
  },
  {
   "cell_type": "markdown",
   "metadata": {},
   "source": [
    "Ora è il momento di includere nella Pipeline il classificatore che si occuperà dell'addestramento e della predizione dei dati."
   ]
  },
  {
   "cell_type": "code",
   "execution_count": 152,
   "metadata": {},
   "outputs": [],
   "source": [
    "# Creazione del modetto tramite una Pipeline. In essa sono sono\n",
    "# spiegati l'ordine per il preprocessing e per il classificatore.\n",
    "model = Pipeline([\n",
    "    ('preprocessor', preprocessor),\n",
    "    ('classifier', RandomForestClassifier())\n",
    "])"
   ]
  },
  {
   "cell_type": "markdown",
   "metadata": {},
   "source": [
    "Il classificatore che è stato utilizzato prende il nome di RandomForestClassifier. Questo algoritmo addestra un certo numero di alberi classificatori su delle piccole porzioni del dataset e ne calcola una media dei risultati per migliorare l'accuracy di predizione dei dati che seguiranno."
   ]
  },
  {
   "cell_type": "code",
   "execution_count": 153,
   "metadata": {},
   "outputs": [
    {
     "name": "stdout",
     "output_type": "stream",
     "text": [
      "Pipeline(steps=[('preprocessor',\n",
      "                 ColumnTransformer(transformers=[('numeric_transformer',\n",
      "                                                  Pipeline(steps=[('simple_imputer',\n",
      "                                                                   SimpleImputer(strategy='median')),\n",
      "                                                                  ('scaler',\n",
      "                                                                   StandardScaler())]),\n",
      "                                                  ['PatientId', 'Age',\n",
      "                                                   'Scholarship',\n",
      "                                                   'Hipertension', 'Diabetes',\n",
      "                                                   'Alcoholism', 'Handcap',\n",
      "                                                   'SMS_received', 'Time_delta',\n",
      "                                                   'Week_day']),\n",
      "                                                 ('not_numeric_transformer',\n",
      "                                                  Pipeline(steps=[('simple_imputer',\n",
      "                                                                   SimpleImputer(strategy='most_frequent')),\n",
      "                                                                  ('categorical',\n",
      "                                                                   OrdinalEncoder())]),\n",
      "                                                  ['Neighbourhood'])])),\n",
      "                ('classifier', RandomForestClassifier())])\n"
     ]
    }
   ],
   "source": [
    "print(model)"
   ]
  },
  {
   "cell_type": "markdown",
   "metadata": {},
   "source": [
    "## Addestramento"
   ]
  },
  {
   "cell_type": "markdown",
   "metadata": {},
   "source": [
    "Una volta creato il modello si può procedere con l'addestramento sui dati di train."
   ]
  },
  {
   "cell_type": "code",
   "execution_count": 154,
   "metadata": {},
   "outputs": [
    {
     "name": "stdout",
     "output_type": "stream",
     "text": [
      "Training score: 99.4380%\n"
     ]
    }
   ],
   "source": [
    "# Addestramento del modello\n",
    "model = model.fit(X_train, y_train)\n",
    "\n",
    "# Calcolo dello score di addestramento del modello\n",
    "score = model.score(X_train, y_train)\n",
    "\n",
    "print(f\"Training score: {score:.4%}\")"
   ]
  },
  {
   "cell_type": "markdown",
   "metadata": {},
   "source": [
    "## Valutazione"
   ]
  },
  {
   "cell_type": "markdown",
   "metadata": {},
   "source": [
    "Ora eseguiamo la valutazione del modello tramite la predizione dei valori di test."
   ]
  },
  {
   "cell_type": "code",
   "execution_count": 158,
   "metadata": {},
   "outputs": [
    {
     "name": "stdout",
     "output_type": "stream",
     "text": [
      "Prediction Accuracy: 79.3271%\n"
     ]
    }
   ],
   "source": [
    "# Predizione dei dati di test\n",
    "prediction = model.predict(X_test)\n",
    "\n",
    "# Calcolo dell'accuracy\n",
    "acc = accuracy_score(y_test, prediction)\n",
    "\n",
    "print(f\"Prediction Accuracy: {acc:.4%}\")"
   ]
  },
  {
   "cell_type": "markdown",
   "metadata": {},
   "source": [
    "## Confusion Matrix"
   ]
  },
  {
   "cell_type": "markdown",
   "metadata": {},
   "source": [
    "Stampiamo ora una confusion matrix con i valori trovati."
   ]
  },
  {
   "cell_type": "code",
   "execution_count": 159,
   "metadata": {},
   "outputs": [],
   "source": [
    "# Creazione di una confusion matrix\n",
    "conf_matr = confusion_matrix(y_test, prediction, normalize=None)"
   ]
  },
  {
   "cell_type": "code",
   "execution_count": 160,
   "metadata": {},
   "outputs": [
    {
     "name": "stdout",
     "output_type": "stream",
     "text": [
      "[[13551   629]\n",
      " [ 3027   478]]\n"
     ]
    }
   ],
   "source": [
    "# Stampa della confusion matrix\n",
    "print(conf_matr)"
   ]
  },
  {
   "cell_type": "code",
   "execution_count": 161,
   "metadata": {},
   "outputs": [
    {
     "name": "stdout",
     "output_type": "stream",
     "text": [
      "[[13551   629]\n",
      " [ 3027   478]]\n"
     ]
    },
    {
     "data": {
      "image/png": "[encoded data removed]",
      "text/plain": [
       "<Figure size 432x288 with 2 Axes>"
      ]
     },
     "metadata": {
      "needs_background": "light"
     },
     "output_type": "display_data"
    }
   ],
   "source": [
    "disp = plot_confusion_matrix(model, X_test, y_test,\n",
    "                                 cmap=plt.cm.Blues)\n",
    "disp.ax_.set_title(\"Confusion Matrix \")\n",
    "\n",
    "\n",
    "\n",
    "print(disp.confusion_matrix)\n",
    "plt.show()"
   ]
  },
  {
   "cell_type": "markdown",
   "metadata": {},
   "source": [
    "## Concusioni"
   ]
  },
  {
   "cell_type": "markdown",
   "metadata": {},
   "source": [
    "Con i dati che sono stati forniti non è possibile addestrare un modello che predica in maniera corretta i valori di test. Come è possibile osservare attraverso la Confusion Matrix il modello addestrato predice per il 93,75% il valore 0 lascando intuire che il modello non abbia realmente imparato a predirre attraverso le features.\n",
    "\n",
    "Il modello ottenuto non può essere ritenuto accettabile ma questo è il massimo che si può ottenere attraverso questo dataset non bilanciato."
   ]
  }
 ],
 "metadata": {
  "kernelspec": {
   "display_name": "Python 3",
   "language": "python",
   "name": "python3"
  },
  "language_info": {
   "codemirror_mode": {
    "name": "ipython",
    "version": 3
   },
   "file_extension": ".py",
   "mimetype": "text/x-python",
   "name": "python",
   "nbconvert_exporter": "python",
   "pygments_lexer": "ipython3",
   "version": "3.7.4"
  }
 },
 "nbformat": 4,
 "nbformat_minor": 4
}
